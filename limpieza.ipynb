{
 "cells": [
  {
   "cell_type": "markdown",
   "metadata": {},
   "source": [
    "# Limpieza y merge de datasets"
   ]
  },
  {
   "cell_type": "code",
   "execution_count": 9,
   "metadata": {},
   "outputs": [],
   "source": [
    "import pandas as pd\n",
    "import numpy as np\n",
    "import warnings\n",
    "warnings.simplefilter(\"ignore\")"
   ]
  },
  {
   "cell_type": "code",
   "execution_count": 10,
   "metadata": {},
   "outputs": [],
   "source": [
    "df_acoso=pd.read_csv('carpetas-de-investigacion-pgj-de-la-ciudad-de-mexico-acoso-3-marzo-2020.csv',sep=',')\n",
    "df_abuso = pd.read_csv('carpetas-de-investigacion-pgj-de-la-ciudad-de-mexico-abuso-3-marzo-2020.csv',sep=',')"
   ]
  },
  {
   "cell_type": "markdown",
   "metadata": {},
   "source": [
    "---"
   ]
  },
  {
   "cell_type": "markdown",
   "metadata": {},
   "source": [
    "### Acoso"
   ]
  },
  {
   "cell_type": "code",
   "execution_count": 11,
   "metadata": {},
   "outputs": [
    {
     "data": {
      "text/plain": [
       "Index(['ao_hechos', 'mes_hechos', 'fecha_hechos', 'delito', 'categoria_delito',\n",
       "       'fiscalia', 'agencia', 'unidad_investigacion', 'alcaldia_hechos',\n",
       "       'colonia_hechos', 'ao_inicio', 'mes_inicio', 'fecha_inicio',\n",
       "       'calle_hechos', 'calle_hechos2', 'longitud', 'latitud', 'geopoint'],\n",
       "      dtype='object')"
      ]
     },
     "execution_count": 11,
     "metadata": {},
     "output_type": "execute_result"
    }
   ],
   "source": [
    "df_acoso.columns"
   ]
  },
  {
   "cell_type": "markdown",
   "metadata": {},
   "source": [
    "Columnas necesarias para el dashboard: Fecha, Tipo de delito, Alcaldía, Latitud y Longitud"
   ]
  },
  {
   "cell_type": "code",
   "execution_count": 12,
   "metadata": {},
   "outputs": [],
   "source": [
    "df_acoso_v2 = df_acoso[[\"fecha_hechos\",\"delito\",\"alcaldia_hechos\",\"latitud\", \"longitud\"]]"
   ]
  },
  {
   "cell_type": "markdown",
   "metadata": {},
   "source": [
    "#### NA's"
   ]
  },
  {
   "cell_type": "code",
   "execution_count": 13,
   "metadata": {},
   "outputs": [
    {
     "data": {
      "text/plain": [
       "fecha_hechos         0\n",
       "delito               0\n",
       "alcaldia_hechos      2\n",
       "latitud            326\n",
       "longitud           326\n",
       "dtype: int64"
      ]
     },
     "execution_count": 13,
     "metadata": {},
     "output_type": "execute_result"
    }
   ],
   "source": [
    "df_acoso_v2.isnull().sum()"
   ]
  },
  {
   "cell_type": "markdown",
   "metadata": {},
   "source": [
    "La información principal para el dashboard son la latitud y longitud. Si en 326 registros no tenemos estos datos, no nos sirve de nada tener los rows. Así que se dropean."
   ]
  },
  {
   "cell_type": "code",
   "execution_count": 14,
   "metadata": {},
   "outputs": [],
   "source": [
    "df_acoso_v3 = df_acoso_v2.dropna()"
   ]
  },
  {
   "cell_type": "code",
   "execution_count": 15,
   "metadata": {},
   "outputs": [
    {
     "data": {
      "text/plain": [
       "fecha_hechos       0\n",
       "delito             0\n",
       "alcaldia_hechos    0\n",
       "latitud            0\n",
       "longitud           0\n",
       "dtype: int64"
      ]
     },
     "execution_count": 15,
     "metadata": {},
     "output_type": "execute_result"
    }
   ],
   "source": [
    "df_acoso_v3.isnull().sum()"
   ]
  },
  {
   "cell_type": "markdown",
   "metadata": {},
   "source": [
    "#### Fecha\n",
    "Revisar consistencia de datos y el tipo de ellos. Tiene que ser 'datetime'"
   ]
  },
  {
   "cell_type": "code",
   "execution_count": 16,
   "metadata": {},
   "outputs": [
    {
     "data": {
      "text/plain": [
       "fecha_hechos        object\n",
       "delito              object\n",
       "alcaldia_hechos     object\n",
       "latitud            float64\n",
       "longitud           float64\n",
       "dtype: object"
      ]
     },
     "execution_count": 16,
     "metadata": {},
     "output_type": "execute_result"
    }
   ],
   "source": [
    "df_acoso_v3.dtypes"
   ]
  },
  {
   "cell_type": "code",
   "execution_count": 17,
   "metadata": {},
   "outputs": [
    {
     "data": {
      "text/plain": [
       "18/05/2019 10:00:00    2\n",
       "14/12/2019 17:00       2\n",
       "2018-08-16 12:00       2\n",
       "10/12/2019 23:00:00    2\n",
       "04/05/2019 13:00:00    2\n",
       "                      ..\n",
       "2018-04-21 20:00       1\n",
       "2017-05-06 12:00:00    1\n",
       "24/03/2019 09:00       1\n",
       "26/11/2019 18:00:00    1\n",
       "26/07/2019 11:00:00    1\n",
       "Name: fecha_hechos, Length: 1558, dtype: int64"
      ]
     },
     "execution_count": 17,
     "metadata": {},
     "output_type": "execute_result"
    }
   ],
   "source": [
    "df_acoso_v3.fecha_hechos.value_counts()\n",
    "#Al parecer se ven bien los datos: no veo NA's ni otros valores extraños."
   ]
  },
  {
   "cell_type": "code",
   "execution_count": 18,
   "metadata": {},
   "outputs": [
    {
     "data": {
      "text/plain": [
       "fecha_hechos       datetime64[ns]\n",
       "delito                     object\n",
       "alcaldia_hechos            object\n",
       "latitud                   float64\n",
       "longitud                  float64\n",
       "dtype: object"
      ]
     },
     "execution_count": 18,
     "metadata": {},
     "output_type": "execute_result"
    }
   ],
   "source": [
    "df_acoso_v3.fecha_hechos=pd.to_datetime(df_acoso_v3.fecha_hechos)\n",
    "df_acoso_v3.dtypes"
   ]
  },
  {
   "cell_type": "code",
   "execution_count": 19,
   "metadata": {},
   "outputs": [
    {
     "data": {
      "text/plain": [
       "2019-10-12 23:00:00    2\n",
       "2017-05-30 15:30:00    2\n",
       "2016-07-04 08:30:00    2\n",
       "2019-11-29 12:00:00    2\n",
       "2019-02-15 13:00:00    2\n",
       "                      ..\n",
       "2017-07-21 14:30:00    1\n",
       "2017-03-06 12:00:00    1\n",
       "2018-11-30 13:40:00    1\n",
       "2018-04-20 22:00:00    1\n",
       "2019-05-26 09:00:00    1\n",
       "Name: fecha_hechos, Length: 1553, dtype: int64"
      ]
     },
     "execution_count": 19,
     "metadata": {},
     "output_type": "execute_result"
    }
   ],
   "source": [
    "df_acoso_v3.fecha_hechos.value_counts()"
   ]
  },
  {
   "cell_type": "markdown",
   "metadata": {},
   "source": [
    "#### Delito"
   ]
  },
  {
   "cell_type": "code",
   "execution_count": 20,
   "metadata": {},
   "outputs": [
    {
     "data": {
      "text/plain": [
       "ACOSO SEXUAL    1576\n",
       "Name: delito, dtype: int64"
      ]
     },
     "execution_count": 20,
     "metadata": {},
     "output_type": "execute_result"
    }
   ],
   "source": [
    "df_acoso_v3.delito.value_counts()"
   ]
  },
  {
   "cell_type": "markdown",
   "metadata": {},
   "source": [
    "Cambiare este valor a 'ACS'. Este será el diferenciador de los acosos en los puntos del dashboard."
   ]
  },
  {
   "cell_type": "code",
   "execution_count": 21,
   "metadata": {},
   "outputs": [],
   "source": [
    "df_acoso_v3.delito = 'ACS'"
   ]
  },
  {
   "cell_type": "code",
   "execution_count": 22,
   "metadata": {},
   "outputs": [
    {
     "data": {
      "text/plain": [
       "ACS    1576\n",
       "Name: delito, dtype: int64"
      ]
     },
     "execution_count": 22,
     "metadata": {},
     "output_type": "execute_result"
    }
   ],
   "source": [
    "df_acoso_v3.delito.value_counts()"
   ]
  },
  {
   "cell_type": "markdown",
   "metadata": {},
   "source": [
    "#### Alcaldías"
   ]
  },
  {
   "cell_type": "code",
   "execution_count": 23,
   "metadata": {},
   "outputs": [
    {
     "data": {
      "text/plain": [
       "CUAUHTEMOC                287\n",
       "IZTAPALAPA                210\n",
       "GUSTAVO A MADERO          173\n",
       "MIGUEL HIDALGO            128\n",
       "BENITO JUAREZ             123\n",
       "COYOACAN                  114\n",
       "ALVARO OBREGON             98\n",
       "VENUSTIANO CARRANZA        95\n",
       "TLALPAN                    87\n",
       "AZCAPOTZALCO               71\n",
       "IZTACALCO                  61\n",
       "TLAHUAC                    42\n",
       "XOCHIMILCO                 38\n",
       "LA MAGDALENA CONTRERAS     24\n",
       "CUAJIMALPA DE MORELOS      19\n",
       "MILPA ALTA                  6\n",
       "Name: alcaldia_hechos, dtype: int64"
      ]
     },
     "execution_count": 23,
     "metadata": {},
     "output_type": "execute_result"
    }
   ],
   "source": [
    "df_acoso_v3.alcaldia_hechos.value_counts()\n",
    "#Bien"
   ]
  },
  {
   "cell_type": "markdown",
   "metadata": {},
   "source": [
    "#### Latitud y Longitud"
   ]
  },
  {
   "cell_type": "code",
   "execution_count": 24,
   "metadata": {
    "scrolled": false
   },
   "outputs": [
    {
     "data": {
      "text/plain": [
       "19.431370    3\n",
       "19.382933    3\n",
       "19.331730    2\n",
       "19.392170    2\n",
       "19.273200    2\n",
       "            ..\n",
       "19.410350    1\n",
       "19.375050    1\n",
       "19.300370    1\n",
       "19.492492    1\n",
       "19.337020    1\n",
       "Name: latitud, Length: 1550, dtype: int64"
      ]
     },
     "execution_count": 24,
     "metadata": {},
     "output_type": "execute_result"
    }
   ],
   "source": [
    "df_acoso_v3.latitud.value_counts()"
   ]
  },
  {
   "cell_type": "code",
   "execution_count": 25,
   "metadata": {},
   "outputs": [
    {
     "data": {
      "text/plain": [
       "0     19.470577\n",
       "1     19.433087\n",
       "2     19.446122\n",
       "3     19.287759\n",
       "5     19.467060\n",
       "8     19.427291\n",
       "9     19.359315\n",
       "10    19.428828\n",
       "11    19.310011\n",
       "12    19.335225\n",
       "13    19.300948\n",
       "14    19.273114\n",
       "15    19.454288\n",
       "16    19.487458\n",
       "17    19.353137\n",
       "18    19.356224\n",
       "19    19.455225\n",
       "20    19.357829\n",
       "21    19.283154\n",
       "22    19.258998\n",
       "23    19.392953\n",
       "24    19.422198\n",
       "25    19.425315\n",
       "26    19.345962\n",
       "28    19.477857\n",
       "29    19.416752\n",
       "31    19.437979\n",
       "32    19.306197\n",
       "33    19.493693\n",
       "35    19.385202\n",
       "36    19.374512\n",
       "37    19.327563\n",
       "38    19.399376\n",
       "40    19.391707\n",
       "41    19.391646\n",
       "42    19.250989\n",
       "43    19.414934\n",
       "44    19.421227\n",
       "45    19.329865\n",
       "46    19.366200\n",
       "47    19.303167\n",
       "48    19.455300\n",
       "49    19.423692\n",
       "50    19.361641\n",
       "51    19.404668\n",
       "52    19.222496\n",
       "53    19.246229\n",
       "54    19.353011\n",
       "55    19.406562\n",
       "56    19.322219\n",
       "Name: latitud, dtype: float64"
      ]
     },
     "execution_count": 25,
     "metadata": {},
     "output_type": "execute_result"
    }
   ],
   "source": [
    "df_acoso_v3.latitud.head(50)"
   ]
  },
  {
   "cell_type": "code",
   "execution_count": 26,
   "metadata": {
    "scrolled": false
   },
   "outputs": [
    {
     "data": {
      "text/plain": [
       "-99.052963    3\n",
       "-99.147150    2\n",
       "-98.997700    2\n",
       "-99.191390    2\n",
       "-99.137310    2\n",
       "             ..\n",
       "-99.123080    1\n",
       "-99.144869    1\n",
       "-99.127600    1\n",
       "-99.096579    1\n",
       "-99.185330    1\n",
       "Name: longitud, Length: 1553, dtype: int64"
      ]
     },
     "execution_count": 26,
     "metadata": {},
     "output_type": "execute_result"
    }
   ],
   "source": [
    "df_acoso_v3.longitud.value_counts()"
   ]
  },
  {
   "cell_type": "code",
   "execution_count": 27,
   "metadata": {},
   "outputs": [
    {
     "data": {
      "text/plain": [
       "0    -99.160223\n",
       "1    -99.118629\n",
       "2    -99.177162\n",
       "3    -98.999858\n",
       "5    -99.132584\n",
       "8    -99.142928\n",
       "9    -99.091768\n",
       "10   -99.150510\n",
       "11   -99.235377\n",
       "12   -99.052446\n",
       "13   -99.106814\n",
       "14   -99.004859\n",
       "15   -99.146400\n",
       "16   -99.133195\n",
       "17   -99.000455\n",
       "18   -99.168721\n",
       "19   -99.140361\n",
       "20   -99.120513\n",
       "21   -99.192737\n",
       "22   -99.173593\n",
       "23   -99.162586\n",
       "24   -99.133657\n",
       "25   -99.164338\n",
       "26   -99.144869\n",
       "28   -99.084071\n",
       "29   -99.167032\n",
       "31   -99.135597\n",
       "32   -99.240375\n",
       "33   -99.164989\n",
       "35   -99.152317\n",
       "36   -99.187900\n",
       "37   -99.121750\n",
       "38   -99.176309\n",
       "40   -99.114126\n",
       "41   -99.047943\n",
       "42   -99.077342\n",
       "43   -99.152581\n",
       "44   -99.125805\n",
       "45   -99.021047\n",
       "46   -99.178954\n",
       "47   -99.121937\n",
       "48   -99.160333\n",
       "49   -99.072072\n",
       "50   -99.225901\n",
       "51   -99.122222\n",
       "52   -99.111390\n",
       "53   -99.087011\n",
       "54   -99.092346\n",
       "55   -99.066419\n",
       "56   -99.105499\n",
       "Name: longitud, dtype: float64"
      ]
     },
     "execution_count": 27,
     "metadata": {},
     "output_type": "execute_result"
    }
   ],
   "source": [
    "df_acoso_v3.longitud.head(50)"
   ]
  },
  {
   "cell_type": "markdown",
   "metadata": {},
   "source": [
    "Los datos se ven bien en primera instancia. Si en el dashboard empiezan a dar problemas, regresaré para hacer un análisis más detallado."
   ]
  },
  {
   "cell_type": "markdown",
   "metadata": {},
   "source": [
    "---"
   ]
  },
  {
   "cell_type": "markdown",
   "metadata": {},
   "source": [
    "### Abuso"
   ]
  },
  {
   "cell_type": "code",
   "execution_count": 28,
   "metadata": {},
   "outputs": [],
   "source": [
    "df_abuso_v2 = df_abuso[[\"fecha_hechos\",\"delito\",\"alcaldia_hechos\",\"latitud\", \"longitud\"]]"
   ]
  },
  {
   "cell_type": "markdown",
   "metadata": {},
   "source": [
    "#### NA's"
   ]
  },
  {
   "cell_type": "code",
   "execution_count": 29,
   "metadata": {},
   "outputs": [
    {
     "data": {
      "text/plain": [
       "fecha_hechos          1\n",
       "delito                0\n",
       "alcaldia_hechos      67\n",
       "latitud            1462\n",
       "longitud           1462\n",
       "dtype: int64"
      ]
     },
     "execution_count": 29,
     "metadata": {},
     "output_type": "execute_result"
    }
   ],
   "source": [
    "df_abuso_v2.isnull().sum()"
   ]
  },
  {
   "cell_type": "code",
   "execution_count": 30,
   "metadata": {},
   "outputs": [],
   "source": [
    "df_abuso_v3 = df_abuso_v2.dropna()"
   ]
  },
  {
   "cell_type": "code",
   "execution_count": 31,
   "metadata": {},
   "outputs": [
    {
     "data": {
      "text/plain": [
       "fecha_hechos       0\n",
       "delito             0\n",
       "alcaldia_hechos    0\n",
       "latitud            0\n",
       "longitud           0\n",
       "dtype: int64"
      ]
     },
     "execution_count": 31,
     "metadata": {},
     "output_type": "execute_result"
    }
   ],
   "source": [
    "df_abuso_v3.isnull().sum()"
   ]
  },
  {
   "cell_type": "markdown",
   "metadata": {},
   "source": [
    "#### Fecha"
   ]
  },
  {
   "cell_type": "code",
   "execution_count": 32,
   "metadata": {},
   "outputs": [
    {
     "data": {
      "text/plain": [
       "fecha_hechos        object\n",
       "delito              object\n",
       "alcaldia_hechos     object\n",
       "latitud            float64\n",
       "longitud           float64\n",
       "dtype: object"
      ]
     },
     "execution_count": 32,
     "metadata": {},
     "output_type": "execute_result"
    }
   ],
   "source": [
    "df_abuso_v3.dtypes"
   ]
  },
  {
   "cell_type": "code",
   "execution_count": 33,
   "metadata": {},
   "outputs": [
    {
     "data": {
      "text/plain": [
       "NA NA                  4\n",
       "2018-06-01 18:00       3\n",
       "22/02/2019 10:00:00    3\n",
       "28/06/2019 12:00:00    3\n",
       "12/02/2019 12:00:00    3\n",
       "                      ..\n",
       "2017-11-01 13:00       1\n",
       "13/02/2019 18:35:00    1\n",
       "23/04/2019 02:00:00    1\n",
       "07/11/2019 14:10:00    1\n",
       "2017-12-28 20:30:00    1\n",
       "Name: fecha_hechos, Length: 8803, dtype: int64"
      ]
     },
     "execution_count": 33,
     "metadata": {},
     "output_type": "execute_result"
    }
   ],
   "source": [
    "df_abuso_v3.fecha_hechos.value_counts()\n",
    "#Hay unos valores \"NA NA\", habrá que quitarlos"
   ]
  },
  {
   "cell_type": "code",
   "execution_count": 34,
   "metadata": {},
   "outputs": [],
   "source": [
    "df_abuso_v3.fecha_hechos[df_abuso_v3.fecha_hechos == \"NA NA\"] = None\n",
    "df_abuso_v4 = df_abuso_v3.dropna()"
   ]
  },
  {
   "cell_type": "code",
   "execution_count": 35,
   "metadata": {},
   "outputs": [
    {
     "data": {
      "text/plain": [
       "fecha_hechos       datetime64[ns]\n",
       "delito                     object\n",
       "alcaldia_hechos            object\n",
       "latitud                   float64\n",
       "longitud                  float64\n",
       "dtype: object"
      ]
     },
     "execution_count": 35,
     "metadata": {},
     "output_type": "execute_result"
    }
   ],
   "source": [
    "df_abuso_v4.fecha_hechos=pd.to_datetime(df_abuso_v4.fecha_hechos)\n",
    "df_abuso_v4.dtypes"
   ]
  },
  {
   "cell_type": "code",
   "execution_count": 36,
   "metadata": {},
   "outputs": [
    {
     "data": {
      "text/plain": [
       "2017-01-01 12:00:00    7\n",
       "2017-03-10 12:00:00    4\n",
       "2019-02-22 10:00:00    4\n",
       "2016-06-06 12:00:00    4\n",
       "2018-11-20 12:00:00    4\n",
       "                      ..\n",
       "2017-08-03 12:00:00    1\n",
       "2019-01-06 18:00:00    1\n",
       "2019-07-20 03:15:00    1\n",
       "2015-11-12 12:30:00    1\n",
       "2016-04-15 10:00:00    1\n",
       "Name: fecha_hechos, Length: 8719, dtype: int64"
      ]
     },
     "execution_count": 36,
     "metadata": {},
     "output_type": "execute_result"
    }
   ],
   "source": [
    "df_abuso_v4.fecha_hechos.value_counts()"
   ]
  },
  {
   "cell_type": "markdown",
   "metadata": {},
   "source": [
    "#### Delito"
   ]
  },
  {
   "cell_type": "code",
   "execution_count": 37,
   "metadata": {},
   "outputs": [
    {
     "data": {
      "text/plain": [
       "ABUSO SEXUAL          9215\n",
       "ABUSO DE AUTORIDAD       3\n",
       "Name: delito, dtype: int64"
      ]
     },
     "execution_count": 37,
     "metadata": {},
     "output_type": "execute_result"
    }
   ],
   "source": [
    "df_abuso_v4.delito.value_counts()"
   ]
  },
  {
   "cell_type": "markdown",
   "metadata": {},
   "source": [
    "Cambiare este valor a 'ABS'. Este será el diferenciador de los acosos en los puntos del dashboard."
   ]
  },
  {
   "cell_type": "code",
   "execution_count": 38,
   "metadata": {},
   "outputs": [],
   "source": [
    "df_abuso_v4.delito = 'ABS'"
   ]
  },
  {
   "cell_type": "code",
   "execution_count": 39,
   "metadata": {},
   "outputs": [
    {
     "data": {
      "text/plain": [
       "ABS    9218\n",
       "Name: delito, dtype: int64"
      ]
     },
     "execution_count": 39,
     "metadata": {},
     "output_type": "execute_result"
    }
   ],
   "source": [
    "df_abuso_v4.delito.value_counts()"
   ]
  },
  {
   "cell_type": "markdown",
   "metadata": {},
   "source": [
    "#### Alcaldías"
   ]
  },
  {
   "cell_type": "code",
   "execution_count": 40,
   "metadata": {},
   "outputs": [
    {
     "data": {
      "text/plain": [
       "IZTAPALAPA                1526\n",
       "CUAUHTEMOC                1400\n",
       "GUSTAVO A MADERO          1112\n",
       "VENUSTIANO CARRANZA        609\n",
       "ALVARO OBREGON             580\n",
       "TLALPAN                    571\n",
       "COYOACAN                   529\n",
       "BENITO JUAREZ              515\n",
       "MIGUEL HIDALGO             484\n",
       "IZTACALCO                  397\n",
       "AZCAPOTZALCO               378\n",
       "XOCHIMILCO                 375\n",
       "TLAHUAC                    266\n",
       "CUAJIMALPA DE MORELOS      192\n",
       "LA MAGDALENA CONTRERAS     167\n",
       "MILPA ALTA                 117\n",
       "Name: alcaldia_hechos, dtype: int64"
      ]
     },
     "execution_count": 40,
     "metadata": {},
     "output_type": "execute_result"
    }
   ],
   "source": [
    "df_abuso_v4.alcaldia_hechos.value_counts()\n",
    "#Bien"
   ]
  },
  {
   "cell_type": "markdown",
   "metadata": {},
   "source": [
    "#### Latitud y Longitud"
   ]
  },
  {
   "cell_type": "code",
   "execution_count": 41,
   "metadata": {
    "scrolled": false
   },
   "outputs": [
    {
     "data": {
      "text/plain": [
       "19.425930    7\n",
       "19.425920    5\n",
       "19.446310    5\n",
       "19.414885    5\n",
       "19.415400    4\n",
       "            ..\n",
       "19.391140    1\n",
       "19.398710    1\n",
       "19.192930    1\n",
       "19.420060    1\n",
       "19.344241    1\n",
       "Name: latitud, Length: 8816, dtype: int64"
      ]
     },
     "execution_count": 41,
     "metadata": {},
     "output_type": "execute_result"
    }
   ],
   "source": [
    "df_abuso_v4.latitud.value_counts()"
   ]
  },
  {
   "cell_type": "code",
   "execution_count": 42,
   "metadata": {},
   "outputs": [
    {
     "data": {
      "text/plain": [
       "0     19.420231\n",
       "1     19.367128\n",
       "2     19.424738\n",
       "3     19.510535\n",
       "4     19.283632\n",
       "5     19.253902\n",
       "6     19.284619\n",
       "7     19.429392\n",
       "8     19.425719\n",
       "9     19.282951\n",
       "10    19.451266\n",
       "11    19.376599\n",
       "12    19.433305\n",
       "14    19.345133\n",
       "15    19.383941\n",
       "16    19.444806\n",
       "17    19.428012\n",
       "18    19.477095\n",
       "19    19.468633\n",
       "20    19.475701\n",
       "21    19.429221\n",
       "22    19.418823\n",
       "23    19.407720\n",
       "24    19.418544\n",
       "25    19.329275\n",
       "26    19.345064\n",
       "27    19.270371\n",
       "28    19.420132\n",
       "29    19.418272\n",
       "30    19.439388\n",
       "31    19.328308\n",
       "32    19.450406\n",
       "33    19.444574\n",
       "34    19.238270\n",
       "35    19.334771\n",
       "36    19.303448\n",
       "37    19.465583\n",
       "38    19.388776\n",
       "39    19.403482\n",
       "40    19.423084\n",
       "41    19.391527\n",
       "42    19.389831\n",
       "44    19.229899\n",
       "46    19.346588\n",
       "47    19.259262\n",
       "48    19.353590\n",
       "50    19.487483\n",
       "51    19.435383\n",
       "53    19.371350\n",
       "54    19.262230\n",
       "Name: latitud, dtype: float64"
      ]
     },
     "execution_count": 42,
     "metadata": {},
     "output_type": "execute_result"
    }
   ],
   "source": [
    "df_abuso_v4.latitud.head(50)"
   ]
  },
  {
   "cell_type": "code",
   "execution_count": 43,
   "metadata": {
    "scrolled": false
   },
   "outputs": [
    {
     "data": {
      "text/plain": [
       "-99.133060    11\n",
       "-99.145140     6\n",
       "-99.072516     5\n",
       "-99.153160     5\n",
       "-99.086140     5\n",
       "              ..\n",
       "-99.118883     1\n",
       "-99.133250     1\n",
       "-99.283580     1\n",
       "-99.210874     1\n",
       "-99.146184     1\n",
       "Name: longitud, Length: 8784, dtype: int64"
      ]
     },
     "execution_count": 43,
     "metadata": {},
     "output_type": "execute_result"
    }
   ],
   "source": [
    "df_abuso_v4.longitud.value_counts()"
   ]
  },
  {
   "cell_type": "code",
   "execution_count": 44,
   "metadata": {},
   "outputs": [
    {
     "data": {
      "text/plain": [
       "0    -99.123842\n",
       "1    -99.071310\n",
       "2    -99.095112\n",
       "3    -99.152675\n",
       "4    -99.054474\n",
       "5    -99.099967\n",
       "6    -99.226275\n",
       "7    -99.153830\n",
       "8    -99.192168\n",
       "9    -99.193101\n",
       "10   -99.201990\n",
       "11   -99.186469\n",
       "12   -99.132959\n",
       "14   -99.309216\n",
       "15   -99.062984\n",
       "16   -99.145191\n",
       "17   -99.122840\n",
       "18   -99.155583\n",
       "19   -99.140030\n",
       "20   -99.194518\n",
       "21   -99.119535\n",
       "22   -99.167467\n",
       "23   -99.134679\n",
       "24   -99.144574\n",
       "25   -99.031727\n",
       "26   -99.188320\n",
       "27   -99.187581\n",
       "28   -99.146491\n",
       "29   -99.160404\n",
       "30   -99.131255\n",
       "31   -99.159274\n",
       "32   -99.202626\n",
       "33   -99.145241\n",
       "34   -99.117674\n",
       "35   -99.274759\n",
       "36   -99.081170\n",
       "37   -99.102344\n",
       "38   -99.138061\n",
       "39   -99.133967\n",
       "40   -99.087192\n",
       "41   -99.118902\n",
       "42   -99.044551\n",
       "44   -99.120333\n",
       "46   -99.082336\n",
       "47   -99.107290\n",
       "48   -99.014063\n",
       "50   -99.116783\n",
       "51   -99.137010\n",
       "53   -99.130468\n",
       "54   -99.111075\n",
       "Name: longitud, dtype: float64"
      ]
     },
     "execution_count": 44,
     "metadata": {},
     "output_type": "execute_result"
    }
   ],
   "source": [
    "df_abuso_v4.longitud.head(50)"
   ]
  },
  {
   "cell_type": "markdown",
   "metadata": {},
   "source": [
    "---"
   ]
  },
  {
   "cell_type": "markdown",
   "metadata": {},
   "source": [
    "## Uniendo los datasets"
   ]
  },
  {
   "cell_type": "code",
   "execution_count": 45,
   "metadata": {},
   "outputs": [
    {
     "data": {
      "text/plain": [
       "((9218, 5), (1576, 5))"
      ]
     },
     "execution_count": 45,
     "metadata": {},
     "output_type": "execute_result"
    }
   ],
   "source": [
    "df_abuso_v4.shape, df_acoso_v3.shape"
   ]
  },
  {
   "cell_type": "code",
   "execution_count": 80,
   "metadata": {},
   "outputs": [
    {
     "data": {
      "text/html": [
       "<div>\n",
       "<style scoped>\n",
       "    .dataframe tbody tr th:only-of-type {\n",
       "        vertical-align: middle;\n",
       "    }\n",
       "\n",
       "    .dataframe tbody tr th {\n",
       "        vertical-align: top;\n",
       "    }\n",
       "\n",
       "    .dataframe thead th {\n",
       "        text-align: right;\n",
       "    }\n",
       "</style>\n",
       "<table border=\"1\" class=\"dataframe\">\n",
       "  <thead>\n",
       "    <tr style=\"text-align: right;\">\n",
       "      <th></th>\n",
       "      <th>fecha_hechos</th>\n",
       "      <th>delito</th>\n",
       "      <th>alcaldia_hechos</th>\n",
       "      <th>latitud</th>\n",
       "      <th>longitud</th>\n",
       "    </tr>\n",
       "  </thead>\n",
       "  <tbody>\n",
       "    <tr>\n",
       "      <th>0</th>\n",
       "      <td>2016-11-03 04:35:00</td>\n",
       "      <td>ACS</td>\n",
       "      <td>AZCAPOTZALCO</td>\n",
       "      <td>19.470577</td>\n",
       "      <td>-99.160223</td>\n",
       "    </tr>\n",
       "    <tr>\n",
       "      <th>1</th>\n",
       "      <td>2016-11-08 23:30:00</td>\n",
       "      <td>ACS</td>\n",
       "      <td>VENUSTIANO CARRANZA</td>\n",
       "      <td>19.433087</td>\n",
       "      <td>-99.118629</td>\n",
       "    </tr>\n",
       "    <tr>\n",
       "      <th>2</th>\n",
       "      <td>2016-09-17 10:00:00</td>\n",
       "      <td>ACS</td>\n",
       "      <td>MIGUEL HIDALGO</td>\n",
       "      <td>19.446122</td>\n",
       "      <td>-99.177162</td>\n",
       "    </tr>\n",
       "    <tr>\n",
       "      <th>3</th>\n",
       "      <td>2016-07-30 01:00:00</td>\n",
       "      <td>ACS</td>\n",
       "      <td>TLAHUAC</td>\n",
       "      <td>19.287759</td>\n",
       "      <td>-98.999858</td>\n",
       "    </tr>\n",
       "    <tr>\n",
       "      <th>4</th>\n",
       "      <td>2016-06-06 06:00:00</td>\n",
       "      <td>ACS</td>\n",
       "      <td>GUSTAVO A MADERO</td>\n",
       "      <td>19.467060</td>\n",
       "      <td>-99.132584</td>\n",
       "    </tr>\n",
       "    <tr>\n",
       "      <th>5</th>\n",
       "      <td>2016-12-06 20:00:00</td>\n",
       "      <td>ACS</td>\n",
       "      <td>CUAUHTEMOC</td>\n",
       "      <td>19.427291</td>\n",
       "      <td>-99.142928</td>\n",
       "    </tr>\n",
       "    <tr>\n",
       "      <th>6</th>\n",
       "      <td>2016-09-29 09:30:00</td>\n",
       "      <td>ACS</td>\n",
       "      <td>IZTAPALAPA</td>\n",
       "      <td>19.359315</td>\n",
       "      <td>-99.091768</td>\n",
       "    </tr>\n",
       "    <tr>\n",
       "      <th>7</th>\n",
       "      <td>2016-12-09 14:40:00</td>\n",
       "      <td>ACS</td>\n",
       "      <td>CUAUHTEMOC</td>\n",
       "      <td>19.428828</td>\n",
       "      <td>-99.150510</td>\n",
       "    </tr>\n",
       "    <tr>\n",
       "      <th>8</th>\n",
       "      <td>2016-12-12 04:30:00</td>\n",
       "      <td>ACS</td>\n",
       "      <td>LA MAGDALENA CONTRERAS</td>\n",
       "      <td>19.310011</td>\n",
       "      <td>-99.235377</td>\n",
       "    </tr>\n",
       "    <tr>\n",
       "      <th>9</th>\n",
       "      <td>2016-12-06 07:45:00</td>\n",
       "      <td>ACS</td>\n",
       "      <td>IZTAPALAPA</td>\n",
       "      <td>19.335225</td>\n",
       "      <td>-99.052446</td>\n",
       "    </tr>\n",
       "  </tbody>\n",
       "</table>\n",
       "</div>"
      ],
      "text/plain": [
       "         fecha_hechos delito         alcaldia_hechos    latitud   longitud\n",
       "0 2016-11-03 04:35:00    ACS            AZCAPOTZALCO  19.470577 -99.160223\n",
       "1 2016-11-08 23:30:00    ACS     VENUSTIANO CARRANZA  19.433087 -99.118629\n",
       "2 2016-09-17 10:00:00    ACS          MIGUEL HIDALGO  19.446122 -99.177162\n",
       "3 2016-07-30 01:00:00    ACS                 TLAHUAC  19.287759 -98.999858\n",
       "4 2016-06-06 06:00:00    ACS        GUSTAVO A MADERO  19.467060 -99.132584\n",
       "5 2016-12-06 20:00:00    ACS              CUAUHTEMOC  19.427291 -99.142928\n",
       "6 2016-09-29 09:30:00    ACS              IZTAPALAPA  19.359315 -99.091768\n",
       "7 2016-12-09 14:40:00    ACS              CUAUHTEMOC  19.428828 -99.150510\n",
       "8 2016-12-12 04:30:00    ACS  LA MAGDALENA CONTRERAS  19.310011 -99.235377\n",
       "9 2016-12-06 07:45:00    ACS              IZTAPALAPA  19.335225 -99.052446"
      ]
     },
     "execution_count": 80,
     "metadata": {},
     "output_type": "execute_result"
    }
   ],
   "source": [
    "df_final=pd.concat([df_acoso_v3, df_abuso_v4], ignore_index=True)\n",
    "df_final.head(10)"
   ]
  },
  {
   "cell_type": "code",
   "execution_count": 103,
   "metadata": {},
   "outputs": [],
   "source": [
    "df_final['text'] = df_final.delito.str.cat(df_final.fecha_hechos.astype(str), sep= \", \")"
   ]
  },
  {
   "cell_type": "code",
   "execution_count": 104,
   "metadata": {},
   "outputs": [],
   "source": [
    "df_final.text=df_final.text.str.replace('ACS','Acoso')\n",
    "df_final.text=df_final.text.str.replace('ABS','Abuso')"
   ]
  },
  {
   "cell_type": "code",
   "execution_count": 105,
   "metadata": {},
   "outputs": [
    {
     "data": {
      "text/html": [
       "<div>\n",
       "<style scoped>\n",
       "    .dataframe tbody tr th:only-of-type {\n",
       "        vertical-align: middle;\n",
       "    }\n",
       "\n",
       "    .dataframe tbody tr th {\n",
       "        vertical-align: top;\n",
       "    }\n",
       "\n",
       "    .dataframe thead th {\n",
       "        text-align: right;\n",
       "    }\n",
       "</style>\n",
       "<table border=\"1\" class=\"dataframe\">\n",
       "  <thead>\n",
       "    <tr style=\"text-align: right;\">\n",
       "      <th></th>\n",
       "      <th>fecha_hechos</th>\n",
       "      <th>delito</th>\n",
       "      <th>alcaldia_hechos</th>\n",
       "      <th>latitud</th>\n",
       "      <th>longitud</th>\n",
       "      <th>text</th>\n",
       "    </tr>\n",
       "  </thead>\n",
       "  <tbody>\n",
       "    <tr>\n",
       "      <th>0</th>\n",
       "      <td>2016-11-03 04:35:00</td>\n",
       "      <td>ACS</td>\n",
       "      <td>AZCAPOTZALCO</td>\n",
       "      <td>19.470577</td>\n",
       "      <td>-99.160223</td>\n",
       "      <td>Acoso, 2016-11-03 04:35:00</td>\n",
       "    </tr>\n",
       "    <tr>\n",
       "      <th>1</th>\n",
       "      <td>2016-11-08 23:30:00</td>\n",
       "      <td>ACS</td>\n",
       "      <td>VENUSTIANO CARRANZA</td>\n",
       "      <td>19.433087</td>\n",
       "      <td>-99.118629</td>\n",
       "      <td>Acoso, 2016-11-08 23:30:00</td>\n",
       "    </tr>\n",
       "    <tr>\n",
       "      <th>2</th>\n",
       "      <td>2016-09-17 10:00:00</td>\n",
       "      <td>ACS</td>\n",
       "      <td>MIGUEL HIDALGO</td>\n",
       "      <td>19.446122</td>\n",
       "      <td>-99.177162</td>\n",
       "      <td>Acoso, 2016-09-17 10:00:00</td>\n",
       "    </tr>\n",
       "    <tr>\n",
       "      <th>3</th>\n",
       "      <td>2016-07-30 01:00:00</td>\n",
       "      <td>ACS</td>\n",
       "      <td>TLAHUAC</td>\n",
       "      <td>19.287759</td>\n",
       "      <td>-98.999858</td>\n",
       "      <td>Acoso, 2016-07-30 01:00:00</td>\n",
       "    </tr>\n",
       "    <tr>\n",
       "      <th>4</th>\n",
       "      <td>2016-06-06 06:00:00</td>\n",
       "      <td>ACS</td>\n",
       "      <td>GUSTAVO A MADERO</td>\n",
       "      <td>19.467060</td>\n",
       "      <td>-99.132584</td>\n",
       "      <td>Acoso, 2016-06-06 06:00:00</td>\n",
       "    </tr>\n",
       "  </tbody>\n",
       "</table>\n",
       "</div>"
      ],
      "text/plain": [
       "         fecha_hechos delito      alcaldia_hechos    latitud   longitud  \\\n",
       "0 2016-11-03 04:35:00    ACS         AZCAPOTZALCO  19.470577 -99.160223   \n",
       "1 2016-11-08 23:30:00    ACS  VENUSTIANO CARRANZA  19.433087 -99.118629   \n",
       "2 2016-09-17 10:00:00    ACS       MIGUEL HIDALGO  19.446122 -99.177162   \n",
       "3 2016-07-30 01:00:00    ACS              TLAHUAC  19.287759 -98.999858   \n",
       "4 2016-06-06 06:00:00    ACS     GUSTAVO A MADERO  19.467060 -99.132584   \n",
       "\n",
       "                         text  \n",
       "0  Acoso, 2016-11-03 04:35:00  \n",
       "1  Acoso, 2016-11-08 23:30:00  \n",
       "2  Acoso, 2016-09-17 10:00:00  \n",
       "3  Acoso, 2016-07-30 01:00:00  \n",
       "4  Acoso, 2016-06-06 06:00:00  "
      ]
     },
     "execution_count": 105,
     "metadata": {},
     "output_type": "execute_result"
    }
   ],
   "source": [
    "df_final.head()"
   ]
  },
  {
   "cell_type": "code",
   "execution_count": 106,
   "metadata": {},
   "outputs": [
    {
     "data": {
      "text/plain": [
       "fecha_hechos       datetime64[ns]\n",
       "delito                     object\n",
       "alcaldia_hechos            object\n",
       "latitud                   float64\n",
       "longitud                  float64\n",
       "text                       object\n",
       "dtype: object"
      ]
     },
     "execution_count": 106,
     "metadata": {},
     "output_type": "execute_result"
    }
   ],
   "source": [
    "df_final.dtypes"
   ]
  },
  {
   "cell_type": "code",
   "execution_count": 107,
   "metadata": {},
   "outputs": [],
   "source": [
    "df_final.to_csv(\"df_dashing.csv\")"
   ]
  }
 ],
 "metadata": {
  "kernelspec": {
   "display_name": "Python 3",
   "language": "python",
   "name": "python3"
  },
  "language_info": {
   "codemirror_mode": {
    "name": "ipython",
    "version": 3
   },
   "file_extension": ".py",
   "mimetype": "text/x-python",
   "name": "python",
   "nbconvert_exporter": "python",
   "pygments_lexer": "ipython3",
   "version": "3.7.3"
  }
 },
 "nbformat": 4,
 "nbformat_minor": 2
}
